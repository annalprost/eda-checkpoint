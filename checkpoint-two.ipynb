{
 "cells": [
  {
   "cell_type": "markdown",
   "metadata": {
    "azdata_cell_guid": "151601c9-ca7a-412e-af80-c62a87e0837e"
   },
   "source": [
    "# Checkpoint Two: Exploratory Data Analysis\n",
    "\n",
    "Now that your chosen dataset is approved, it is time to start working on your analysis. Use this notebook to perform your EDA and make notes where directed to as you work.\n",
    "\n",
    "## Getting Started\n",
    "\n",
    "Since we have not provided your dataset for you, you will need to load the necessary files in this repository. Make sure to include a link back to the original dataset here as well.\n",
    "\n",
    "My dataset:  https://www.kaggle.com/datasets/zarinhelena/chemicals-in-cosmetics?select=chemicals-in-cosmetics.csv\n",
    "\n",
    "Your first task in EDA is to import necessary libraries and create a dataframe(s). Make note in the form of code comments of what your thought process is as you work on this setup task."
   ]
  },
  {
   "cell_type": "code",
   "execution_count": 2,
   "metadata": {
    "azdata_cell_guid": "7b503e37-6df5-4433-acfb-678b1346db14"
   },
   "outputs": [
    {
     "data": {
      "text/html": [
       "<div>\n",
       "<style scoped>\n",
       "    .dataframe tbody tr th:only-of-type {\n",
       "        vertical-align: middle;\n",
       "    }\n",
       "\n",
       "    .dataframe tbody tr th {\n",
       "        vertical-align: top;\n",
       "    }\n",
       "\n",
       "    .dataframe thead th {\n",
       "        text-align: right;\n",
       "    }\n",
       "</style>\n",
       "<table border=\"1\" class=\"dataframe\">\n",
       "  <thead>\n",
       "    <tr style=\"text-align: right;\">\n",
       "      <th></th>\n",
       "      <th>CDPHId</th>\n",
       "      <th>ProductName</th>\n",
       "      <th>CSFId</th>\n",
       "      <th>CSF</th>\n",
       "      <th>CompanyId</th>\n",
       "      <th>CompanyName</th>\n",
       "      <th>BrandName</th>\n",
       "      <th>PrimaryCategoryId</th>\n",
       "      <th>PrimaryCategory</th>\n",
       "      <th>SubCategoryId</th>\n",
       "      <th>...</th>\n",
       "      <th>CasNumber</th>\n",
       "      <th>ChemicalId</th>\n",
       "      <th>ChemicalName</th>\n",
       "      <th>InitialDateReported</th>\n",
       "      <th>MostRecentDateReported</th>\n",
       "      <th>DiscontinuedDate</th>\n",
       "      <th>ChemicalCreatedAt</th>\n",
       "      <th>ChemicalUpdatedAt</th>\n",
       "      <th>ChemicalDateRemoved</th>\n",
       "      <th>ChemicalCount</th>\n",
       "    </tr>\n",
       "  </thead>\n",
       "  <tbody>\n",
       "    <tr>\n",
       "      <th>0</th>\n",
       "      <td>2</td>\n",
       "      <td>ULTRA COLOR RICH EXTRA PLUMP LIPSTICK-ALL SHADES</td>\n",
       "      <td>NaN</td>\n",
       "      <td>NaN</td>\n",
       "      <td>4</td>\n",
       "      <td>New Avon LLC</td>\n",
       "      <td>AVON</td>\n",
       "      <td>44</td>\n",
       "      <td>Makeup Products (non-permanent)</td>\n",
       "      <td>53</td>\n",
       "      <td>...</td>\n",
       "      <td>13463-67-7</td>\n",
       "      <td>6</td>\n",
       "      <td>Titanium dioxide</td>\n",
       "      <td>06/17/2009</td>\n",
       "      <td>08/28/2013</td>\n",
       "      <td>02/01/2011</td>\n",
       "      <td>07/09/2009</td>\n",
       "      <td>07/09/2009</td>\n",
       "      <td>NaN</td>\n",
       "      <td>1</td>\n",
       "    </tr>\n",
       "    <tr>\n",
       "      <th>1</th>\n",
       "      <td>3</td>\n",
       "      <td>Glover's Medicated Shampoo</td>\n",
       "      <td>NaN</td>\n",
       "      <td>NaN</td>\n",
       "      <td>338</td>\n",
       "      <td>J. Strickland &amp; Co.</td>\n",
       "      <td>Glover's</td>\n",
       "      <td>18</td>\n",
       "      <td>Hair Care Products (non-coloring)</td>\n",
       "      <td>25</td>\n",
       "      <td>...</td>\n",
       "      <td>65996-92-1</td>\n",
       "      <td>4</td>\n",
       "      <td>Distillates (coal tar)</td>\n",
       "      <td>07/01/2009</td>\n",
       "      <td>07/01/2009</td>\n",
       "      <td>NaN</td>\n",
       "      <td>07/01/2009</td>\n",
       "      <td>07/01/2009</td>\n",
       "      <td>NaN</td>\n",
       "      <td>2</td>\n",
       "    </tr>\n",
       "    <tr>\n",
       "      <th>2</th>\n",
       "      <td>3</td>\n",
       "      <td>Glover's Medicated Shampoo</td>\n",
       "      <td>NaN</td>\n",
       "      <td>NaN</td>\n",
       "      <td>338</td>\n",
       "      <td>J. Strickland &amp; Co.</td>\n",
       "      <td>Glover's</td>\n",
       "      <td>18</td>\n",
       "      <td>Hair Care Products (non-coloring)</td>\n",
       "      <td>25</td>\n",
       "      <td>...</td>\n",
       "      <td>140-67-0</td>\n",
       "      <td>5</td>\n",
       "      <td>Estragole</td>\n",
       "      <td>07/01/2009</td>\n",
       "      <td>07/01/2009</td>\n",
       "      <td>NaN</td>\n",
       "      <td>07/02/2009</td>\n",
       "      <td>07/02/2009</td>\n",
       "      <td>NaN</td>\n",
       "      <td>2</td>\n",
       "    </tr>\n",
       "    <tr>\n",
       "      <th>3</th>\n",
       "      <td>4</td>\n",
       "      <td>PRECISION GLIMMER EYE LINER-ALL SHADES �</td>\n",
       "      <td>NaN</td>\n",
       "      <td>NaN</td>\n",
       "      <td>4</td>\n",
       "      <td>New Avon LLC</td>\n",
       "      <td>AVON</td>\n",
       "      <td>44</td>\n",
       "      <td>Makeup Products (non-permanent)</td>\n",
       "      <td>46</td>\n",
       "      <td>...</td>\n",
       "      <td>13463-67-7</td>\n",
       "      <td>7</td>\n",
       "      <td>Titanium dioxide</td>\n",
       "      <td>07/09/2009</td>\n",
       "      <td>08/28/2013</td>\n",
       "      <td>NaN</td>\n",
       "      <td>07/09/2009</td>\n",
       "      <td>07/09/2009</td>\n",
       "      <td>NaN</td>\n",
       "      <td>1</td>\n",
       "    </tr>\n",
       "    <tr>\n",
       "      <th>4</th>\n",
       "      <td>5</td>\n",
       "      <td>AVON BRILLIANT SHINE LIP GLOSS-ALL SHADES �</td>\n",
       "      <td>NaN</td>\n",
       "      <td>NaN</td>\n",
       "      <td>4</td>\n",
       "      <td>New Avon LLC</td>\n",
       "      <td>AVON</td>\n",
       "      <td>44</td>\n",
       "      <td>Makeup Products (non-permanent)</td>\n",
       "      <td>52</td>\n",
       "      <td>...</td>\n",
       "      <td>13463-67-7</td>\n",
       "      <td>8</td>\n",
       "      <td>Titanium dioxide</td>\n",
       "      <td>07/09/2009</td>\n",
       "      <td>08/28/2013</td>\n",
       "      <td>02/01/2011</td>\n",
       "      <td>07/09/2009</td>\n",
       "      <td>07/09/2009</td>\n",
       "      <td>NaN</td>\n",
       "      <td>1</td>\n",
       "    </tr>\n",
       "  </tbody>\n",
       "</table>\n",
       "<p>5 rows × 22 columns</p>\n",
       "</div>"
      ],
      "text/plain": [
       "   CDPHId                                       ProductName  CSFId  CSF  \\\n",
       "0       2  ULTRA COLOR RICH EXTRA PLUMP LIPSTICK-ALL SHADES    NaN  NaN   \n",
       "1       3                        Glover's Medicated Shampoo    NaN  NaN   \n",
       "2       3                        Glover's Medicated Shampoo    NaN  NaN   \n",
       "3       4          PRECISION GLIMMER EYE LINER-ALL SHADES �    NaN  NaN   \n",
       "4       5       AVON BRILLIANT SHINE LIP GLOSS-ALL SHADES �    NaN  NaN   \n",
       "\n",
       "   CompanyId          CompanyName BrandName  PrimaryCategoryId  \\\n",
       "0          4         New Avon LLC      AVON                 44   \n",
       "1        338  J. Strickland & Co.  Glover's                 18   \n",
       "2        338  J. Strickland & Co.  Glover's                 18   \n",
       "3          4         New Avon LLC      AVON                 44   \n",
       "4          4         New Avon LLC      AVON                 44   \n",
       "\n",
       "                     PrimaryCategory  SubCategoryId  ...   CasNumber  \\\n",
       "0    Makeup Products (non-permanent)             53  ...  13463-67-7   \n",
       "1  Hair Care Products (non-coloring)             25  ...  65996-92-1   \n",
       "2  Hair Care Products (non-coloring)             25  ...    140-67-0   \n",
       "3    Makeup Products (non-permanent)             46  ...  13463-67-7   \n",
       "4    Makeup Products (non-permanent)             52  ...  13463-67-7   \n",
       "\n",
       "   ChemicalId            ChemicalName  InitialDateReported  \\\n",
       "0           6        Titanium dioxide           06/17/2009   \n",
       "1           4  Distillates (coal tar)           07/01/2009   \n",
       "2           5               Estragole           07/01/2009   \n",
       "3           7        Titanium dioxide           07/09/2009   \n",
       "4           8        Titanium dioxide           07/09/2009   \n",
       "\n",
       "  MostRecentDateReported DiscontinuedDate ChemicalCreatedAt ChemicalUpdatedAt  \\\n",
       "0             08/28/2013       02/01/2011        07/09/2009        07/09/2009   \n",
       "1             07/01/2009              NaN        07/01/2009        07/01/2009   \n",
       "2             07/01/2009              NaN        07/02/2009        07/02/2009   \n",
       "3             08/28/2013              NaN        07/09/2009        07/09/2009   \n",
       "4             08/28/2013       02/01/2011        07/09/2009        07/09/2009   \n",
       "\n",
       "  ChemicalDateRemoved ChemicalCount  \n",
       "0                 NaN             1  \n",
       "1                 NaN             2  \n",
       "2                 NaN             2  \n",
       "3                 NaN             1  \n",
       "4                 NaN             1  \n",
       "\n",
       "[5 rows x 22 columns]"
      ]
     },
     "execution_count": 2,
     "metadata": {},
     "output_type": "execute_result"
    }
   ],
   "source": [
    "import pandas as pd\n",
    "import matplotlib.pyplot as plt\n",
    "import seaborn as sns\n",
    "import numpy as np\n",
    "\n",
    "df = pd.read_csv(\"chemicals-in-cosmetics.csv\")\n",
    "df.head()"
   ]
  },
  {
   "cell_type": "code",
   "execution_count": 2,
   "metadata": {},
   "outputs": [],
   "source": [
    "#From my first look at the data, I am wondering what the CSFId and CSF columns are. I am also wondering if the ChemicalID  gives any information about if the chemical is harmful. I am also wondering what the ChemicalCount means."
   ]
  },
  {
   "cell_type": "code",
   "execution_count": 3,
   "metadata": {},
   "outputs": [],
   "source": [
    "#CSFId = CDPH (California Department of Public Health) internal identification number for a color/scent/flavor.\n",
    "#CSF = Color, scent and/or flavor as entered by manufacturer, packer and/or distributor. The color/scent/flavor name is\n",
    "#ChemicalCount = Total number of current chemicals reported for this product. This number does not include chemicals that have been removed from a product.\n",
    "#CheimcalID = CDPH internal identification number for this chemical's record specific to this product.\n",
    "#CASNumber = Chemical identification number (Chemical Abstracts Service registry number assigned to specific chemical)."
   ]
  },
  {
   "cell_type": "code",
   "execution_count": 4,
   "metadata": {},
   "outputs": [],
   "source": [
    "# Other questions I have:\n",
    "#     - How many brands/companies are included in the dataset?\n",
    "#     - How many chemicals are included?\n",
    "#     - Are all of the chemicals harmful, or only some?\n",
    "#     - Is there a primary category that contains more harmful chemicals than others?\n",
    "#     - Is there a brand/company that has more products with harmful chemicals than others?"
   ]
  },
  {
   "cell_type": "markdown",
   "metadata": {
    "azdata_cell_guid": "129ce836-524b-4ea8-b394-a959f9308d6a"
   },
   "source": [
    "## Get to Know the Numbers\n",
    "\n",
    "Now that you have everything setup, put any code that you use to get to know the dataframe and its rows and columns better in the cell below. You can use whatever techniques you like, except for visualizations. You will put those in a separate section.\n",
    "\n",
    "When working on your code, make sure to leave comments so that your mentors can understand your thought process."
   ]
  },
  {
   "cell_type": "code",
   "execution_count": 5,
   "metadata": {},
   "outputs": [
    {
     "data": {
      "text/plain": [
       "(112870, 22)"
      ]
     },
     "execution_count": 5,
     "metadata": {},
     "output_type": "execute_result"
    }
   ],
   "source": [
    "df.shape #112870 rows and 22 columns"
   ]
  },
  {
   "cell_type": "code",
   "execution_count": 6,
   "metadata": {},
   "outputs": [
    {
     "data": {
      "text/plain": [
       "Index(['CDPHId', 'ProductName', 'CSFId', 'CSF', 'CompanyId', 'CompanyName',\n",
       "       'BrandName', 'PrimaryCategoryId', 'PrimaryCategory', 'SubCategoryId',\n",
       "       'SubCategory', 'CasId', 'CasNumber', 'ChemicalId', 'ChemicalName',\n",
       "       'InitialDateReported', 'MostRecentDateReported', 'DiscontinuedDate',\n",
       "       'ChemicalCreatedAt', 'ChemicalUpdatedAt', 'ChemicalDateRemoved',\n",
       "       'ChemicalCount'],\n",
       "      dtype='object')"
      ]
     },
     "execution_count": 6,
     "metadata": {},
     "output_type": "execute_result"
    }
   ],
   "source": [
    "df.columns # column names"
   ]
  },
  {
   "cell_type": "code",
   "execution_count": 7,
   "metadata": {
    "azdata_cell_guid": "0ca2d318-f6e8-43ef-a33e-5304d24d928d",
    "tags": []
   },
   "outputs": [
    {
     "name": "stdout",
     "output_type": "stream",
     "text": [
      "<class 'pandas.core.frame.DataFrame'>\n",
      "RangeIndex: 112870 entries, 0 to 112869\n",
      "Data columns (total 22 columns):\n",
      " #   Column                  Non-Null Count   Dtype  \n",
      "---  ------                  --------------   -----  \n",
      " 0   CDPHId                  112870 non-null  int64  \n",
      " 1   ProductName             112870 non-null  object \n",
      " 2   CSFId                   79187 non-null   float64\n",
      " 3   CSF                     78763 non-null   object \n",
      " 4   CompanyId               112870 non-null  int64  \n",
      " 5   CompanyName             112870 non-null  object \n",
      " 6   BrandName               112658 non-null  object \n",
      " 7   PrimaryCategoryId       112870 non-null  int64  \n",
      " 8   PrimaryCategory         112870 non-null  object \n",
      " 9   SubCategoryId           112870 non-null  int64  \n",
      " 10  SubCategory             112870 non-null  object \n",
      " 11  CasId                   112870 non-null  int64  \n",
      " 12  CasNumber               106581 non-null  object \n",
      " 13  ChemicalId              112870 non-null  int64  \n",
      " 14  ChemicalName            112870 non-null  object \n",
      " 15  InitialDateReported     112870 non-null  object \n",
      " 16  MostRecentDateReported  112870 non-null  object \n",
      " 17  DiscontinuedDate        12906 non-null   object \n",
      " 18  ChemicalCreatedAt       112870 non-null  object \n",
      " 19  ChemicalUpdatedAt       112870 non-null  object \n",
      " 20  ChemicalDateRemoved     2921 non-null    object \n",
      " 21  ChemicalCount           112870 non-null  int64  \n",
      "dtypes: float64(1), int64(7), object(14)\n",
      "memory usage: 18.9+ MB\n"
     ]
    }
   ],
   "source": [
    "df.info()\n",
    "#I used .info() to find which columns contain null values and what the datatypes for each column are. I noticed that\n",
    "#the following columns contain null values : CSFId, CSF, DiscontinuedDate, ChemicalDateRemoved, BrandName, CASNumber,. The DicountinuedDate and \n",
    "#ChemicalDateRemoved are not surprising, because not every compnay has reported removing the chemicals or dicontinuinin the item, so I think the \n",
    "#null values in these columns will be important in my analysis. The CSFId and CSF are only telling us the color/scent/flavor\n",
    "#ID, so I do not believe at this time that those values will be important. The null values in BrandName and CasNumber will need ot be resolved, but there aren't many."
   ]
  },
  {
   "cell_type": "code",
   "execution_count": 8,
   "metadata": {},
   "outputs": [
    {
     "data": {
      "text/plain": [
       "CDPHId                         0\n",
       "ProductName                    0\n",
       "CSFId                      33683\n",
       "CSF                        34107\n",
       "CompanyId                      0\n",
       "CompanyName                    0\n",
       "BrandName                    212\n",
       "PrimaryCategoryId              0\n",
       "PrimaryCategory                0\n",
       "SubCategoryId                  0\n",
       "SubCategory                    0\n",
       "CasId                          0\n",
       "CasNumber                   6289\n",
       "ChemicalId                     0\n",
       "ChemicalName                   0\n",
       "InitialDateReported            0\n",
       "MostRecentDateReported         0\n",
       "DiscontinuedDate           99964\n",
       "ChemicalCreatedAt              0\n",
       "ChemicalUpdatedAt              0\n",
       "ChemicalDateRemoved       109949\n",
       "ChemicalCount                  0\n",
       "dtype: int64"
      ]
     },
     "execution_count": 8,
     "metadata": {},
     "output_type": "execute_result"
    }
   ],
   "source": [
    "df.isnull().sum() #Total null values per column."
   ]
  },
  {
   "cell_type": "code",
   "execution_count": 9,
   "metadata": {},
   "outputs": [
    {
     "name": "stdout",
     "output_type": "stream",
     "text": [
      "CDPHId - 0%\n",
      "ProductName - 0%\n",
      "CSFId - 30%\n",
      "CSF - 30%\n",
      "CompanyId - 0%\n",
      "CompanyName - 0%\n",
      "BrandName - 0%\n",
      "PrimaryCategoryId - 0%\n",
      "PrimaryCategory - 0%\n",
      "SubCategoryId - 0%\n",
      "SubCategory - 0%\n",
      "CasId - 0%\n",
      "CasNumber - 6%\n",
      "ChemicalId - 0%\n",
      "ChemicalName - 0%\n",
      "InitialDateReported - 0%\n",
      "MostRecentDateReported - 0%\n",
      "DiscontinuedDate - 89%\n",
      "ChemicalCreatedAt - 0%\n",
      "ChemicalUpdatedAt - 0%\n",
      "ChemicalDateRemoved - 97%\n",
      "ChemicalCount - 0%\n"
     ]
    }
   ],
   "source": [
    "for col in df.columns:\n",
    "    pct_missing = np.mean(df[col].isnull())\n",
    "    print('{} - {}%'.format(col, round(pct_missing*100))) #Percentage of null values per column"
   ]
  },
  {
   "cell_type": "code",
   "execution_count": 10,
   "metadata": {},
   "outputs": [
    {
     "data": {
      "text/plain": [
       "254"
      ]
     },
     "execution_count": 10,
     "metadata": {},
     "output_type": "execute_result"
    }
   ],
   "source": [
    "df.duplicated().sum()"
   ]
  },
  {
   "cell_type": "code",
   "execution_count": 11,
   "metadata": {},
   "outputs": [
    {
     "data": {
      "text/html": [
       "<div>\n",
       "<style scoped>\n",
       "    .dataframe tbody tr th:only-of-type {\n",
       "        vertical-align: middle;\n",
       "    }\n",
       "\n",
       "    .dataframe tbody tr th {\n",
       "        vertical-align: top;\n",
       "    }\n",
       "\n",
       "    .dataframe thead th {\n",
       "        text-align: right;\n",
       "    }\n",
       "</style>\n",
       "<table border=\"1\" class=\"dataframe\">\n",
       "  <thead>\n",
       "    <tr style=\"text-align: right;\">\n",
       "      <th></th>\n",
       "      <th>CDPHId</th>\n",
       "      <th>CSFId</th>\n",
       "      <th>CompanyId</th>\n",
       "      <th>PrimaryCategoryId</th>\n",
       "      <th>SubCategoryId</th>\n",
       "      <th>CasId</th>\n",
       "      <th>ChemicalId</th>\n",
       "      <th>ChemicalCount</th>\n",
       "    </tr>\n",
       "  </thead>\n",
       "  <tbody>\n",
       "    <tr>\n",
       "      <th>count</th>\n",
       "      <td>112870.000000</td>\n",
       "      <td>79187.000000</td>\n",
       "      <td>112870.000000</td>\n",
       "      <td>112870.000000</td>\n",
       "      <td>112870.000000</td>\n",
       "      <td>112870.000000</td>\n",
       "      <td>112870.000000</td>\n",
       "      <td>112870.000000</td>\n",
       "    </tr>\n",
       "    <tr>\n",
       "      <th>mean</th>\n",
       "      <td>19993.707203</td>\n",
       "      <td>32027.268024</td>\n",
       "      <td>445.114477</td>\n",
       "      <td>51.139470</td>\n",
       "      <td>66.985922</td>\n",
       "      <td>673.754762</td>\n",
       "      <td>32313.099442</td>\n",
       "      <td>1.281784</td>\n",
       "    </tr>\n",
       "    <tr>\n",
       "      <th>std</th>\n",
       "      <td>12327.400697</td>\n",
       "      <td>18774.020397</td>\n",
       "      <td>405.832049</td>\n",
       "      <td>20.558343</td>\n",
       "      <td>35.958149</td>\n",
       "      <td>148.616904</td>\n",
       "      <td>20152.245894</td>\n",
       "      <td>0.629136</td>\n",
       "    </tr>\n",
       "    <tr>\n",
       "      <th>min</th>\n",
       "      <td>2.000000</td>\n",
       "      <td>1.000000</td>\n",
       "      <td>4.000000</td>\n",
       "      <td>1.000000</td>\n",
       "      <td>3.000000</td>\n",
       "      <td>2.000000</td>\n",
       "      <td>0.000000</td>\n",
       "      <td>0.000000</td>\n",
       "    </tr>\n",
       "    <tr>\n",
       "      <th>25%</th>\n",
       "      <td>8540.250000</td>\n",
       "      <td>15530.500000</td>\n",
       "      <td>86.000000</td>\n",
       "      <td>44.000000</td>\n",
       "      <td>48.000000</td>\n",
       "      <td>656.000000</td>\n",
       "      <td>13932.250000</td>\n",
       "      <td>1.000000</td>\n",
       "    </tr>\n",
       "    <tr>\n",
       "      <th>50%</th>\n",
       "      <td>20522.000000</td>\n",
       "      <td>31885.000000</td>\n",
       "      <td>292.000000</td>\n",
       "      <td>44.000000</td>\n",
       "      <td>52.000000</td>\n",
       "      <td>656.000000</td>\n",
       "      <td>31789.000000</td>\n",
       "      <td>1.000000</td>\n",
       "    </tr>\n",
       "    <tr>\n",
       "      <th>75%</th>\n",
       "      <td>30713.000000</td>\n",
       "      <td>48175.500000</td>\n",
       "      <td>747.000000</td>\n",
       "      <td>59.000000</td>\n",
       "      <td>65.000000</td>\n",
       "      <td>656.000000</td>\n",
       "      <td>50470.750000</td>\n",
       "      <td>1.000000</td>\n",
       "    </tr>\n",
       "    <tr>\n",
       "      <th>max</th>\n",
       "      <td>41032.000000</td>\n",
       "      <td>64115.000000</td>\n",
       "      <td>1358.000000</td>\n",
       "      <td>111.000000</td>\n",
       "      <td>172.000000</td>\n",
       "      <td>1242.000000</td>\n",
       "      <td>67177.000000</td>\n",
       "      <td>9.000000</td>\n",
       "    </tr>\n",
       "  </tbody>\n",
       "</table>\n",
       "</div>"
      ],
      "text/plain": [
       "              CDPHId         CSFId      CompanyId  PrimaryCategoryId  \\\n",
       "count  112870.000000  79187.000000  112870.000000      112870.000000   \n",
       "mean    19993.707203  32027.268024     445.114477          51.139470   \n",
       "std     12327.400697  18774.020397     405.832049          20.558343   \n",
       "min         2.000000      1.000000       4.000000           1.000000   \n",
       "25%      8540.250000  15530.500000      86.000000          44.000000   \n",
       "50%     20522.000000  31885.000000     292.000000          44.000000   \n",
       "75%     30713.000000  48175.500000     747.000000          59.000000   \n",
       "max     41032.000000  64115.000000    1358.000000         111.000000   \n",
       "\n",
       "       SubCategoryId          CasId     ChemicalId  ChemicalCount  \n",
       "count  112870.000000  112870.000000  112870.000000  112870.000000  \n",
       "mean       66.985922     673.754762   32313.099442       1.281784  \n",
       "std        35.958149     148.616904   20152.245894       0.629136  \n",
       "min         3.000000       2.000000       0.000000       0.000000  \n",
       "25%        48.000000     656.000000   13932.250000       1.000000  \n",
       "50%        52.000000     656.000000   31789.000000       1.000000  \n",
       "75%        65.000000     656.000000   50470.750000       1.000000  \n",
       "max       172.000000    1242.000000   67177.000000       9.000000  "
      ]
     },
     "execution_count": 11,
     "metadata": {},
     "output_type": "execute_result"
    }
   ],
   "source": [
    "df.describe()\n",
    "#I used .describe() to get basic statistics on the numeric columns. All of the ID columns don't return any useful data \n",
    "# with .describe(), but ChemicalCount shows that the max amount of chemicals in on product are 9, which is significantly higher than the mean."
   ]
  },
  {
   "cell_type": "code",
   "execution_count": 12,
   "metadata": {},
   "outputs": [
    {
     "data": {
      "text/html": [
       "<div>\n",
       "<style scoped>\n",
       "    .dataframe tbody tr th:only-of-type {\n",
       "        vertical-align: middle;\n",
       "    }\n",
       "\n",
       "    .dataframe tbody tr th {\n",
       "        vertical-align: top;\n",
       "    }\n",
       "\n",
       "    .dataframe thead th {\n",
       "        text-align: right;\n",
       "    }\n",
       "</style>\n",
       "<table border=\"1\" class=\"dataframe\">\n",
       "  <thead>\n",
       "    <tr style=\"text-align: right;\">\n",
       "      <th></th>\n",
       "      <th>ChemicalCount</th>\n",
       "    </tr>\n",
       "  </thead>\n",
       "  <tbody>\n",
       "    <tr>\n",
       "      <th>median</th>\n",
       "      <td>1.0</td>\n",
       "    </tr>\n",
       "  </tbody>\n",
       "</table>\n",
       "</div>"
      ],
      "text/plain": [
       "        ChemicalCount\n",
       "median            1.0"
      ]
     },
     "execution_count": 12,
     "metadata": {},
     "output_type": "execute_result"
    }
   ],
   "source": [
    "df.agg({\"ChemicalCount\":['median']})\n",
    "#Since the max amount of chemicals was so much higher than the mean, I wanted to know the median and mode of Chemical Coutn."
   ]
  },
  {
   "cell_type": "code",
   "execution_count": 13,
   "metadata": {},
   "outputs": [
    {
     "data": {
      "text/html": [
       "<div>\n",
       "<style scoped>\n",
       "    .dataframe tbody tr th:only-of-type {\n",
       "        vertical-align: middle;\n",
       "    }\n",
       "\n",
       "    .dataframe tbody tr th {\n",
       "        vertical-align: top;\n",
       "    }\n",
       "\n",
       "    .dataframe thead tr th {\n",
       "        text-align: left;\n",
       "    }\n",
       "</style>\n",
       "<table border=\"1\" class=\"dataframe\">\n",
       "  <thead>\n",
       "    <tr>\n",
       "      <th></th>\n",
       "      <th>ChemicalCount</th>\n",
       "    </tr>\n",
       "    <tr>\n",
       "      <th></th>\n",
       "      <th>mode</th>\n",
       "    </tr>\n",
       "  </thead>\n",
       "  <tbody>\n",
       "    <tr>\n",
       "      <th>0</th>\n",
       "      <td>1</td>\n",
       "    </tr>\n",
       "  </tbody>\n",
       "</table>\n",
       "</div>"
      ],
      "text/plain": [
       "  ChemicalCount\n",
       "           mode\n",
       "0             1"
      ]
     },
     "execution_count": 13,
     "metadata": {},
     "output_type": "execute_result"
    }
   ],
   "source": [
    "df.agg({\"ChemicalCount\":['mode']})\n"
   ]
  },
  {
   "cell_type": "code",
   "execution_count": 14,
   "metadata": {},
   "outputs": [
    {
     "data": {
      "text/html": [
       "<div>\n",
       "<style scoped>\n",
       "    .dataframe tbody tr th:only-of-type {\n",
       "        vertical-align: middle;\n",
       "    }\n",
       "\n",
       "    .dataframe tbody tr th {\n",
       "        vertical-align: top;\n",
       "    }\n",
       "\n",
       "    .dataframe thead th {\n",
       "        text-align: right;\n",
       "    }\n",
       "</style>\n",
       "<table border=\"1\" class=\"dataframe\">\n",
       "  <thead>\n",
       "    <tr style=\"text-align: right;\">\n",
       "      <th></th>\n",
       "      <th>CDPHId</th>\n",
       "      <th>ProductName</th>\n",
       "      <th>CSFId</th>\n",
       "      <th>CSF</th>\n",
       "      <th>CompanyId</th>\n",
       "      <th>CompanyName</th>\n",
       "      <th>BrandName</th>\n",
       "      <th>PrimaryCategoryId</th>\n",
       "      <th>PrimaryCategory</th>\n",
       "      <th>SubCategoryId</th>\n",
       "      <th>...</th>\n",
       "      <th>CasNumber</th>\n",
       "      <th>ChemicalId</th>\n",
       "      <th>ChemicalName</th>\n",
       "      <th>InitialDateReported</th>\n",
       "      <th>MostRecentDateReported</th>\n",
       "      <th>DiscontinuedDate</th>\n",
       "      <th>ChemicalCreatedAt</th>\n",
       "      <th>ChemicalUpdatedAt</th>\n",
       "      <th>ChemicalDateRemoved</th>\n",
       "      <th>ChemicalCount</th>\n",
       "    </tr>\n",
       "  </thead>\n",
       "  <tbody>\n",
       "    <tr>\n",
       "      <th>60819</th>\n",
       "      <td>22212</td>\n",
       "      <td>Moisturizing Shampoo</td>\n",
       "      <td>NaN</td>\n",
       "      <td>NaN</td>\n",
       "      <td>165</td>\n",
       "      <td>Regis Corporation</td>\n",
       "      <td>Regis Design Line</td>\n",
       "      <td>18</td>\n",
       "      <td>Hair Care Products (non-coloring)</td>\n",
       "      <td>25</td>\n",
       "      <td>...</td>\n",
       "      <td>123-91-1</td>\n",
       "      <td>33796</td>\n",
       "      <td>1,4-Dioxane</td>\n",
       "      <td>02/04/2014</td>\n",
       "      <td>02/04/2014</td>\n",
       "      <td>NaN</td>\n",
       "      <td>02/04/2014</td>\n",
       "      <td>02/04/2014</td>\n",
       "      <td>NaN</td>\n",
       "      <td>9</td>\n",
       "    </tr>\n",
       "    <tr>\n",
       "      <th>60820</th>\n",
       "      <td>22212</td>\n",
       "      <td>Moisturizing Shampoo</td>\n",
       "      <td>NaN</td>\n",
       "      <td>NaN</td>\n",
       "      <td>165</td>\n",
       "      <td>Regis Corporation</td>\n",
       "      <td>Regis Design Line</td>\n",
       "      <td>18</td>\n",
       "      <td>Hair Care Products (non-coloring)</td>\n",
       "      <td>25</td>\n",
       "      <td>...</td>\n",
       "      <td>79-06-1</td>\n",
       "      <td>33797</td>\n",
       "      <td>Acrylamide</td>\n",
       "      <td>02/04/2014</td>\n",
       "      <td>02/04/2014</td>\n",
       "      <td>NaN</td>\n",
       "      <td>02/04/2014</td>\n",
       "      <td>02/04/2014</td>\n",
       "      <td>NaN</td>\n",
       "      <td>9</td>\n",
       "    </tr>\n",
       "    <tr>\n",
       "      <th>60821</th>\n",
       "      <td>22212</td>\n",
       "      <td>Moisturizing Shampoo</td>\n",
       "      <td>NaN</td>\n",
       "      <td>NaN</td>\n",
       "      <td>165</td>\n",
       "      <td>Regis Corporation</td>\n",
       "      <td>Regis Design Line</td>\n",
       "      <td>18</td>\n",
       "      <td>Hair Care Products (non-coloring)</td>\n",
       "      <td>25</td>\n",
       "      <td>...</td>\n",
       "      <td>NaN</td>\n",
       "      <td>33798</td>\n",
       "      <td>Arsenic (inorganic arsenic compounds)</td>\n",
       "      <td>02/04/2014</td>\n",
       "      <td>02/04/2014</td>\n",
       "      <td>NaN</td>\n",
       "      <td>02/04/2014</td>\n",
       "      <td>02/04/2014</td>\n",
       "      <td>NaN</td>\n",
       "      <td>9</td>\n",
       "    </tr>\n",
       "    <tr>\n",
       "      <th>60822</th>\n",
       "      <td>22212</td>\n",
       "      <td>Moisturizing Shampoo</td>\n",
       "      <td>NaN</td>\n",
       "      <td>NaN</td>\n",
       "      <td>165</td>\n",
       "      <td>Regis Corporation</td>\n",
       "      <td>Regis Design Line</td>\n",
       "      <td>18</td>\n",
       "      <td>Hair Care Products (non-coloring)</td>\n",
       "      <td>25</td>\n",
       "      <td>...</td>\n",
       "      <td>79-43-6</td>\n",
       "      <td>33799</td>\n",
       "      <td>Dichloroacetic acid</td>\n",
       "      <td>02/04/2014</td>\n",
       "      <td>02/04/2014</td>\n",
       "      <td>NaN</td>\n",
       "      <td>02/04/2014</td>\n",
       "      <td>02/04/2014</td>\n",
       "      <td>NaN</td>\n",
       "      <td>9</td>\n",
       "    </tr>\n",
       "    <tr>\n",
       "      <th>60823</th>\n",
       "      <td>22212</td>\n",
       "      <td>Moisturizing Shampoo</td>\n",
       "      <td>NaN</td>\n",
       "      <td>NaN</td>\n",
       "      <td>165</td>\n",
       "      <td>Regis Corporation</td>\n",
       "      <td>Regis Design Line</td>\n",
       "      <td>18</td>\n",
       "      <td>Hair Care Products (non-coloring)</td>\n",
       "      <td>25</td>\n",
       "      <td>...</td>\n",
       "      <td>75-21-8</td>\n",
       "      <td>33800</td>\n",
       "      <td>Ethylene oxide</td>\n",
       "      <td>02/04/2014</td>\n",
       "      <td>02/04/2014</td>\n",
       "      <td>NaN</td>\n",
       "      <td>02/04/2014</td>\n",
       "      <td>02/04/2014</td>\n",
       "      <td>NaN</td>\n",
       "      <td>9</td>\n",
       "    </tr>\n",
       "    <tr>\n",
       "      <th>60824</th>\n",
       "      <td>22212</td>\n",
       "      <td>Moisturizing Shampoo</td>\n",
       "      <td>NaN</td>\n",
       "      <td>NaN</td>\n",
       "      <td>165</td>\n",
       "      <td>Regis Corporation</td>\n",
       "      <td>Regis Design Line</td>\n",
       "      <td>18</td>\n",
       "      <td>Hair Care Products (non-coloring)</td>\n",
       "      <td>25</td>\n",
       "      <td>...</td>\n",
       "      <td>50-00-0</td>\n",
       "      <td>33801</td>\n",
       "      <td>Formaldehyde (gas)</td>\n",
       "      <td>02/04/2014</td>\n",
       "      <td>02/04/2014</td>\n",
       "      <td>NaN</td>\n",
       "      <td>02/04/2014</td>\n",
       "      <td>02/04/2014</td>\n",
       "      <td>NaN</td>\n",
       "      <td>9</td>\n",
       "    </tr>\n",
       "    <tr>\n",
       "      <th>60825</th>\n",
       "      <td>22212</td>\n",
       "      <td>Moisturizing Shampoo</td>\n",
       "      <td>NaN</td>\n",
       "      <td>NaN</td>\n",
       "      <td>165</td>\n",
       "      <td>Regis Corporation</td>\n",
       "      <td>Regis Design Line</td>\n",
       "      <td>18</td>\n",
       "      <td>Hair Care Products (non-coloring)</td>\n",
       "      <td>25</td>\n",
       "      <td>...</td>\n",
       "      <td>7439-92-1</td>\n",
       "      <td>33802</td>\n",
       "      <td>Lead</td>\n",
       "      <td>02/04/2014</td>\n",
       "      <td>02/04/2014</td>\n",
       "      <td>NaN</td>\n",
       "      <td>02/04/2014</td>\n",
       "      <td>02/04/2014</td>\n",
       "      <td>NaN</td>\n",
       "      <td>9</td>\n",
       "    </tr>\n",
       "    <tr>\n",
       "      <th>60826</th>\n",
       "      <td>22212</td>\n",
       "      <td>Moisturizing Shampoo</td>\n",
       "      <td>NaN</td>\n",
       "      <td>NaN</td>\n",
       "      <td>165</td>\n",
       "      <td>Regis Corporation</td>\n",
       "      <td>Regis Design Line</td>\n",
       "      <td>18</td>\n",
       "      <td>Hair Care Products (non-coloring)</td>\n",
       "      <td>25</td>\n",
       "      <td>...</td>\n",
       "      <td>NaN</td>\n",
       "      <td>33803</td>\n",
       "      <td>Cocamide diethanolamine (DEA)</td>\n",
       "      <td>02/04/2014</td>\n",
       "      <td>02/04/2014</td>\n",
       "      <td>NaN</td>\n",
       "      <td>02/04/2014</td>\n",
       "      <td>02/04/2014</td>\n",
       "      <td>NaN</td>\n",
       "      <td>9</td>\n",
       "    </tr>\n",
       "    <tr>\n",
       "      <th>60827</th>\n",
       "      <td>22212</td>\n",
       "      <td>Moisturizing Shampoo</td>\n",
       "      <td>NaN</td>\n",
       "      <td>NaN</td>\n",
       "      <td>165</td>\n",
       "      <td>Regis Corporation</td>\n",
       "      <td>Regis Design Line</td>\n",
       "      <td>18</td>\n",
       "      <td>Hair Care Products (non-coloring)</td>\n",
       "      <td>25</td>\n",
       "      <td>...</td>\n",
       "      <td>107-21-1</td>\n",
       "      <td>33804</td>\n",
       "      <td>Ethylene glycol</td>\n",
       "      <td>02/04/2014</td>\n",
       "      <td>02/04/2014</td>\n",
       "      <td>NaN</td>\n",
       "      <td>02/04/2014</td>\n",
       "      <td>02/04/2014</td>\n",
       "      <td>NaN</td>\n",
       "      <td>9</td>\n",
       "    </tr>\n",
       "    <tr>\n",
       "      <th>15654</th>\n",
       "      <td>3685</td>\n",
       "      <td>Hydrate Conditioner</td>\n",
       "      <td>NaN</td>\n",
       "      <td>NaN</td>\n",
       "      <td>165</td>\n",
       "      <td>Regis Corporation</td>\n",
       "      <td>Regis Design Line</td>\n",
       "      <td>18</td>\n",
       "      <td>Hair Care Products (non-coloring)</td>\n",
       "      <td>21</td>\n",
       "      <td>...</td>\n",
       "      <td>123-91-1</td>\n",
       "      <td>6507</td>\n",
       "      <td>1,4-Dioxane</td>\n",
       "      <td>10/12/2009</td>\n",
       "      <td>02/06/2014</td>\n",
       "      <td>02/06/2014</td>\n",
       "      <td>10/12/2009</td>\n",
       "      <td>02/06/2014</td>\n",
       "      <td>10/13/2009</td>\n",
       "      <td>8</td>\n",
       "    </tr>\n",
       "  </tbody>\n",
       "</table>\n",
       "<p>10 rows × 22 columns</p>\n",
       "</div>"
      ],
      "text/plain": [
       "       CDPHId           ProductName  CSFId  CSF  CompanyId        CompanyName  \\\n",
       "60819   22212  Moisturizing Shampoo    NaN  NaN        165  Regis Corporation   \n",
       "60820   22212  Moisturizing Shampoo    NaN  NaN        165  Regis Corporation   \n",
       "60821   22212  Moisturizing Shampoo    NaN  NaN        165  Regis Corporation   \n",
       "60822   22212  Moisturizing Shampoo    NaN  NaN        165  Regis Corporation   \n",
       "60823   22212  Moisturizing Shampoo    NaN  NaN        165  Regis Corporation   \n",
       "60824   22212  Moisturizing Shampoo    NaN  NaN        165  Regis Corporation   \n",
       "60825   22212  Moisturizing Shampoo    NaN  NaN        165  Regis Corporation   \n",
       "60826   22212  Moisturizing Shampoo    NaN  NaN        165  Regis Corporation   \n",
       "60827   22212  Moisturizing Shampoo    NaN  NaN        165  Regis Corporation   \n",
       "15654    3685   Hydrate Conditioner    NaN  NaN        165  Regis Corporation   \n",
       "\n",
       "               BrandName  PrimaryCategoryId  \\\n",
       "60819  Regis Design Line                 18   \n",
       "60820  Regis Design Line                 18   \n",
       "60821  Regis Design Line                 18   \n",
       "60822  Regis Design Line                 18   \n",
       "60823  Regis Design Line                 18   \n",
       "60824  Regis Design Line                 18   \n",
       "60825  Regis Design Line                 18   \n",
       "60826  Regis Design Line                 18   \n",
       "60827  Regis Design Line                 18   \n",
       "15654  Regis Design Line                 18   \n",
       "\n",
       "                         PrimaryCategory  SubCategoryId  ...  CasNumber  \\\n",
       "60819  Hair Care Products (non-coloring)             25  ...   123-91-1   \n",
       "60820  Hair Care Products (non-coloring)             25  ...    79-06-1   \n",
       "60821  Hair Care Products (non-coloring)             25  ...        NaN   \n",
       "60822  Hair Care Products (non-coloring)             25  ...    79-43-6   \n",
       "60823  Hair Care Products (non-coloring)             25  ...    75-21-8   \n",
       "60824  Hair Care Products (non-coloring)             25  ...    50-00-0   \n",
       "60825  Hair Care Products (non-coloring)             25  ...  7439-92-1   \n",
       "60826  Hair Care Products (non-coloring)             25  ...        NaN   \n",
       "60827  Hair Care Products (non-coloring)             25  ...   107-21-1   \n",
       "15654  Hair Care Products (non-coloring)             21  ...   123-91-1   \n",
       "\n",
       "       ChemicalId                           ChemicalName  InitialDateReported  \\\n",
       "60819       33796                            1,4-Dioxane           02/04/2014   \n",
       "60820       33797                             Acrylamide           02/04/2014   \n",
       "60821       33798  Arsenic (inorganic arsenic compounds)           02/04/2014   \n",
       "60822       33799                    Dichloroacetic acid           02/04/2014   \n",
       "60823       33800                         Ethylene oxide           02/04/2014   \n",
       "60824       33801                     Formaldehyde (gas)           02/04/2014   \n",
       "60825       33802                                   Lead           02/04/2014   \n",
       "60826       33803          Cocamide diethanolamine (DEA)           02/04/2014   \n",
       "60827       33804                        Ethylene glycol           02/04/2014   \n",
       "15654        6507                            1,4-Dioxane           10/12/2009   \n",
       "\n",
       "      MostRecentDateReported DiscontinuedDate ChemicalCreatedAt  \\\n",
       "60819             02/04/2014              NaN        02/04/2014   \n",
       "60820             02/04/2014              NaN        02/04/2014   \n",
       "60821             02/04/2014              NaN        02/04/2014   \n",
       "60822             02/04/2014              NaN        02/04/2014   \n",
       "60823             02/04/2014              NaN        02/04/2014   \n",
       "60824             02/04/2014              NaN        02/04/2014   \n",
       "60825             02/04/2014              NaN        02/04/2014   \n",
       "60826             02/04/2014              NaN        02/04/2014   \n",
       "60827             02/04/2014              NaN        02/04/2014   \n",
       "15654             02/06/2014       02/06/2014        10/12/2009   \n",
       "\n",
       "      ChemicalUpdatedAt ChemicalDateRemoved ChemicalCount  \n",
       "60819        02/04/2014                 NaN             9  \n",
       "60820        02/04/2014                 NaN             9  \n",
       "60821        02/04/2014                 NaN             9  \n",
       "60822        02/04/2014                 NaN             9  \n",
       "60823        02/04/2014                 NaN             9  \n",
       "60824        02/04/2014                 NaN             9  \n",
       "60825        02/04/2014                 NaN             9  \n",
       "60826        02/04/2014                 NaN             9  \n",
       "60827        02/04/2014                 NaN             9  \n",
       "15654        02/06/2014          10/13/2009             8  \n",
       "\n",
       "[10 rows x 22 columns]"
      ]
     },
     "execution_count": 14,
     "metadata": {},
     "output_type": "execute_result"
    }
   ],
   "source": [
    "df.nlargest(10, \"ChemicalCount\")\n",
    "\n",
    "# I wanted to see if the same product/brand/company was responsible for the ChemicalCount of 9. I notice from this that \n",
    "#the same product is listed 9 times, one time for each chemical. I am now wondering how I will organize my data so I am\n",
    "#looking at each product as one product and not multiples of the same."
   ]
  },
  {
   "cell_type": "code",
   "execution_count": 10,
   "metadata": {},
   "outputs": [
    {
     "data": {
      "text/plain": [
       "L'Oreal USA                            5734\n",
       "Coty                                   5162\n",
       "S+                                     4825\n",
       "Revlon Consumer Product Corporation    4341\n",
       "Bare Escentuals Beauty, Inc.           3828\n",
       "                                       ... \n",
       "Goodier Cosmetics Inc                     1\n",
       "RT Group                                  1\n",
       "Prai Beauty Group Inc                     1\n",
       "Prima-Derm, S.L.                          1\n",
       "Jiangxi Iris Chemical Co.,Ltd             1\n",
       "Name: CompanyName, Length: 601, dtype: int64"
      ]
     },
     "execution_count": 10,
     "metadata": {},
     "output_type": "execute_result"
    }
   ],
   "source": [
    "df['CompanyName'].value_counts() #I wanted to see how many times the most frequently occuring companies are listed."
   ]
  },
  {
   "cell_type": "code",
   "execution_count": 22,
   "metadata": {},
   "outputs": [
    {
     "data": {
      "text/plain": [
       "count          112870\n",
       "unique            601\n",
       "top       L'Oreal USA\n",
       "freq             5734\n",
       "Name: CompanyName, dtype: object"
      ]
     },
     "execution_count": 22,
     "metadata": {},
     "output_type": "execute_result"
    }
   ],
   "source": [
    "df['CompanyName'].describe() #I wanted to see how many unique companies there are compared to the total amount."
   ]
  },
  {
   "cell_type": "code",
   "execution_count": 15,
   "metadata": {},
   "outputs": [
    {
     "data": {
      "text/plain": [
       "array(['Titanium dioxide', 'Distillates (coal tar)', 'Estragole',\n",
       "       'Cocamide diethanolamine', 'Toluene',\n",
       "       'Chromium (hexavalent compounds)', 'Retinol',\n",
       "       'Retinol/retinyl esters, when in daily dosages in excess of 10,000 IU, or 3,000 retinol equivalents.',\n",
       "       'Vitamin A', 'Vitamin A palmitate', 'Butylated hydroxyanisole',\n",
       "       'Coffea arabica extract', 'Lauramide diethanolamine', 'Coffee',\n",
       "       'Silica, crystalline (airborne particles of respirable size)',\n",
       "       'Carbon black (airborne, unbound particles of respirable size)',\n",
       "       'Carbon black', 'Genistein (purified)', 'Progesterone',\n",
       "       '2,4-Hexadienal (89% trans, trans isomer; 11% cis, trans isomer)',\n",
       "       'Methyleugenol', 'Carbon-black extracts', 'Retinyl palmitate',\n",
       "       'o-Phenylphenol', 'Acrylamide', 'Formaldehyde (gas)',\n",
       "       'Ginkgo biloba extract', 'Mica', 'Ethylene glycol',\n",
       "       'Acetic acid, retinyl ester', 'Ethyl acrylate', 'Trade Secret',\n",
       "       'Methanol', 'Mineral oils, untreated and mildly treated',\n",
       "       'Diethanolamine', 'TEA-Lauryl Sulfate', 'Retinyl acetate',\n",
       "       'Lead acetate', 'Talc', 'Triethanolamine',\n",
       "       'o-Phenylenediamine and its salts', 'Safrole', 'Styrene',\n",
       "       'Acetaldehyde', 'Cocamide DEA', '1,4-Dioxane',\n",
       "       'Arsenic (inorganic arsenic compounds)', 'Dichloroacetic acid',\n",
       "       'Ethylene oxide', 'Lead', 'Dichloromethane (Methylene chloride)',\n",
       "       'Benzene', 'Benzyl chloride', 'N-Nitrosodimethylamine',\n",
       "       'Propylene oxide', 'Methyl chloride',\n",
       "       'Cadmium and cadmium compounds', 'N-Methylpyrrolidone',\n",
       "       'Di-n-butyl phthalate (DBP)', 'Coal tars',\n",
       "       'All-trans retinoic acid', 'Quinoline and its strong acid salts',\n",
       "       'Methylene glycol', 'Benzophenone', 'Cocamide', 'Lauramide DEA',\n",
       "       'Aloe vera, whole leaf extract', 'Musk xylene', 'Aspirin',\n",
       "       'Coal Tar', 'Benzophenone-3', 'Quartz',\n",
       "       'Talc containing asbestiform fibers', 'Sodium Bromate',\n",
       "       'Phenacetin', 'Arsenic (inorganic oxides)',\n",
       "       'Mercury and mercury compounds', 'p-Aminodiphenylamine',\n",
       "       'Permethrin', 'Acetylsalicylic acid', 'Coal tar extract',\n",
       "       'Selenium sulfide', 'Oil Orange SS', 'Spironolactone',\n",
       "       'Nickel (Metallic)', 'Caffeic acid', 'Cocamide MEA',\n",
       "       'Cosmetic talc', 'C.I. Acid Red 114', 'Caffeine', 'Benzophenone-4',\n",
       "       'Ethanol in alcoholic beverages', 'Formaldehyde',\n",
       "       'Cocamide diethanolamine (DEA)', 'Coffee extract',\n",
       "       'Retinol palmitate', 'Coffee bean extract',\n",
       "       'Propylene glycol mono-t-butyl ether', 'Avobenzone',\n",
       "       'Coal tar solution', 'Pulegone',\n",
       "       'Titanium dioxide (airborne, unbound particles of respirable size)',\n",
       "       'beta-Myrcene', 'Talc (powder)',\n",
       "       '2,2-Bis(bromomethyl)-1,3-propanediol', 'Benzo[a]pyrene',\n",
       "       'Benz[a]anthracene', 'Extract of coffee bean',\n",
       "       'Goldenseal root powder',\n",
       "       'Isopropyl alcohol manufacture using strong acids',\n",
       "       '2-Propyleneacrolein', 'N,N-Dimethyl-p-toluidine',\n",
       "       'Formaldehyde solution', 'N-Nitrosodiethanolamine',\n",
       "       'Benzophenone-2', 'Vinyl acetate', 'Trichloroacetic acid',\n",
       "       'Phenacemide', 'Aloe vera, non-decolorized whole leaf extract',\n",
       "       'Polygeenan', 'Diethanolamides of the fatty acids of coconut oil',\n",
       "       'Bisphenol A (BPA)', 'Hydrous magnesium silicate'], dtype=object)"
      ]
     },
     "execution_count": 15,
     "metadata": {},
     "output_type": "execute_result"
    }
   ],
   "source": [
    "df['ChemicalName'].unique()\n",
    "#I used .unique() on the ChemicalName column becuase I wanted a report of all of the unique chemicals included in the \n",
    "#database."
   ]
  },
  {
   "cell_type": "code",
   "execution_count": 16,
   "metadata": {},
   "outputs": [
    {
     "data": {
      "text/plain": [
       "Titanium dioxide                                                                                       92304\n",
       "Silica, crystalline (airborne particles of respirable size)                                             2676\n",
       "Retinol/retinyl esters, when in daily dosages in excess of 10,000 IU, or 3,000 retinol equivalents.     2154\n",
       "Butylated hydroxyanisole                                                                                1882\n",
       "Mica                                                                                                    1839\n",
       "                                                                                                       ...  \n",
       "Acetylsalicylic acid                                                                                       1\n",
       "2-Propyleneacrolein                                                                                        1\n",
       "Spironolactone                                                                                             1\n",
       "Extract of coffee bean                                                                                     1\n",
       "Hydrous magnesium silicate                                                                                 1\n",
       "Name: ChemicalName, Length: 123, dtype: int64"
      ]
     },
     "execution_count": 16,
     "metadata": {},
     "output_type": "execute_result"
    }
   ],
   "source": [
    "df['ChemicalName'].value_counts() #I wanted to see the most frequently occuring chemicals to check their toxicity."
   ]
  },
  {
   "cell_type": "code",
   "execution_count": 23,
   "metadata": {},
   "outputs": [
    {
     "data": {
      "text/plain": [
       "count               112870\n",
       "unique                 123\n",
       "top       Titanium dioxide\n",
       "freq                 92304\n",
       "Name: ChemicalName, dtype: object"
      ]
     },
     "execution_count": 23,
     "metadata": {},
     "output_type": "execute_result"
    }
   ],
   "source": [
    "df['ChemicalName'].describe() #I wanted to total amount of unique chemicals in the dataset."
   ]
  },
  {
   "cell_type": "markdown",
   "metadata": {},
   "source": [
    "These websites can be used to search for toxicity of chemicals by their name and CAS number:\n",
    "https://oehha.ca.gov/chemicals \n",
    "https://pubchem.ncbi.nlm.nih.gov/compound/Titanium-Dioxide"
   ]
  },
  {
   "cell_type": "code",
   "execution_count": 24,
   "metadata": {},
   "outputs": [
    {
     "data": {
      "text/plain": [
       "count         106581\n",
       "unique           125\n",
       "top       13463-67-7\n",
       "freq           91873\n",
       "Name: CasNumber, dtype: object"
      ]
     },
     "execution_count": 24,
     "metadata": {},
     "output_type": "execute_result"
    }
   ],
   "source": [
    "df['CasNumber'].describe()"
   ]
  },
  {
   "cell_type": "code",
   "execution_count": 21,
   "metadata": {},
   "outputs": [
    {
     "data": {
      "text/plain": [
       "array(['13463-67-7', '65996-92-1', '140-67-0', '68603-42-9', '108-88-3',\n",
       "       nan, '68-26-8', '79-81-2', '11103-57-4', '25013-16-5',\n",
       "       '84650-00-0', '120-40-1', '1333-86-4', '57-83-0', '93-15-2',\n",
       "       '90-43-7', '79-06-1', '50-00-0', '90045-36-6', '1317-70-0',\n",
       "       '12001-26-2', '107-21-1', '127-47-9', '140-88-5', '68155-06-6',\n",
       "       '0', '67-56-1', '446-72-0', '661791-31-9', '111-42-2', '139-96-8',\n",
       "       '301-04-2', '14807-96-6', '102-71-6', '13463-67-7 ', '95-54-5',\n",
       "       '94-59-7', '100-42-5', '75-07-0', '123-91-1', '79-43-6', '75-21-8',\n",
       "       '7439-92-1', '75-09-2', '71-43-2', '100-44-7', '62-75-9',\n",
       "       '75-56-9', '74-87-3', '7440-43-10', '872-50-4', '79812', '84-74-2',\n",
       "       '79-818-2', '201-228-5', '91-22-5', '463-57-0', '119-61-9',\n",
       "       '98084-96-9', '79-91-2', '81-15-2', '50-78-2', '8007-45-2',\n",
       "       '8002-45-2', '11103-57-438', '11103-57-538', '131-57-7',\n",
       "       '14808-60-7', 'CAS#79-81-2', 'CAS #79-81-2', 'CAS # 79-81-',\n",
       "       '79-8-12', '61791-31-9', '7789-38-0', '62-44-2', '302-79-4',\n",
       "       '7439-97-6', '8020-83-5', '106-50-3', '101--54-2', '101-54-2',\n",
       "       '13463-67-', '13463677', '52645-53-1', 'RN:  93�15�2', '1317-80-2',\n",
       "       'asdf', 'RN:  13463 6', '93 15 2', '79-82-1', '50-78-25',\n",
       "       '61789-19-3', '7488-56-4', '13463-67-7  ', '2646-17-5',\n",
       "       'RN: 13463-67', '7446-34-6', ' 79-81-2', '52-01-7', '1333-86-4 ',\n",
       "       '14807-96-6 ', '1333-86-4  ', '7440-02-0', '331-39-5',\n",
       "       '82115-62-6', '68140-00-1', '6459-94-5', '58-08-2', '4065-45-6',\n",
       "       '30525-89-4', '57018-52-7', '70356-09-1', '89-82-7', '123-35-3',\n",
       "       '3296-90-0', '50-32-8', '56-55-3', '99-97-8', '1116-54-7',\n",
       "       '131-55-5', '108-05-4', '76-03-9', '63-98-9', '53973-98-1',\n",
       "       '64-17-5', '80-05-7'], dtype=object)"
      ]
     },
     "execution_count": 21,
     "metadata": {},
     "output_type": "execute_result"
    }
   ],
   "source": [
    "df['CasNumber'].unique()"
   ]
  },
  {
   "cell_type": "code",
   "execution_count": 18,
   "metadata": {},
   "outputs": [
    {
     "data": {
      "text/plain": [
       "Makeup Products (non-permanent)      74524\n",
       "Nail Products                        15102\n",
       "Skin Care Products                    7613\n",
       "Sun-Related Products                  4939\n",
       "Bath Products                         3417\n",
       "Hair Coloring Products                2053\n",
       "Hair Care Products (non-coloring)     1595\n",
       "Tattoos and Permanent Makeup          1477\n",
       "Personal Care Products                 753\n",
       "Fragrances                             644\n",
       "Oral Hygiene Products                  482\n",
       "Shaving Products                       222\n",
       "Baby Products                           49\n",
       "Name: PrimaryCategory, dtype: int64"
      ]
     },
     "execution_count": 18,
     "metadata": {},
     "output_type": "execute_result"
    }
   ],
   "source": [
    "df['PrimaryCategory'].value_counts()\n",
    "#I used value_counts() on the PrimaryCategory column to see how often each category appears in the dataset."
   ]
  },
  {
   "cell_type": "code",
   "execution_count": 19,
   "metadata": {},
   "outputs": [
    {
     "data": {
      "text/plain": [
       "count     112658\n",
       "unique      2683\n",
       "top          NYX\n",
       "freq        3227\n",
       "Name: BrandName, dtype: object"
      ]
     },
     "execution_count": 19,
     "metadata": {},
     "output_type": "execute_result"
    }
   ],
   "source": [
    "df['BrandName'].describe()\n",
    "# I used .describe() on the BrandName column to see how many unique brands are in the dataset compared to the overal count. \n",
    "#I also found that NYX has the most entries."
   ]
  },
  {
   "cell_type": "code",
   "execution_count": 20,
   "metadata": {},
   "outputs": [
    {
     "data": {
      "text/plain": [
       "NYX                      3227\n",
       "bareMinerals             3158\n",
       "SEPHORA                  3054\n",
       "Revlon                   2335\n",
       "NARS                     2185\n",
       "                         ... \n",
       "Nail Bliss                  1\n",
       "The Skin care Make-up       1\n",
       "ISO                         1\n",
       "Reveal by Halle Berry       1\n",
       "Sudden Change               1\n",
       "Name: BrandName, Length: 2683, dtype: int64"
      ]
     },
     "execution_count": 20,
     "metadata": {},
     "output_type": "execute_result"
    }
   ],
   "source": [
    "df['BrandName'].value_counts()\n",
    "#This shows the brands with the most/least occurances in the dataset.\n"
   ]
  },
  {
   "cell_type": "code",
   "execution_count": 21,
   "metadata": {},
   "outputs": [
    {
     "data": {
      "text/plain": [
       "count           2921\n",
       "unique           514\n",
       "top       12/14/2009\n",
       "freq             159\n",
       "Name: ChemicalDateRemoved, dtype: object"
      ]
     },
     "execution_count": 21,
     "metadata": {},
     "output_type": "execute_result"
    }
   ],
   "source": [
    "df['ChemicalDateRemoved'].describe() # I used describe to see how many dates are listed under ChemicalDateRemoved and how that compares to the unique values."
   ]
  },
  {
   "cell_type": "code",
   "execution_count": 22,
   "metadata": {},
   "outputs": [
    {
     "data": {
      "text/plain": [
       "12/14/2009    159\n",
       "12/05/2103    114\n",
       "10/13/2009    111\n",
       "10/06/2009    110\n",
       "12/30/2013     88\n",
       "             ... \n",
       "07/01/2012      1\n",
       "07/08/2013      1\n",
       "12/28/2010      1\n",
       "05/23/2013      1\n",
       "01/10/2020      1\n",
       "Name: ChemicalDateRemoved, Length: 514, dtype: int64"
      ]
     },
     "execution_count": 22,
     "metadata": {},
     "output_type": "execute_result"
    }
   ],
   "source": [
    "df['ChemicalDateRemoved'].value_counts() #this shows the same dates appear many times in this column. I am wondering if \n",
    "#one company/product removed multiple chemicals, or if many companies/products were removed.\n"
   ]
  },
  {
   "cell_type": "markdown",
   "metadata": {
    "azdata_cell_guid": "d45060f3-97bc-484a-9ef4-66145bbe9427"
   },
   "source": [
    "## Visualize\n",
    "\n",
    "Create any visualizations for your EDA here. Make note in the form of code comments of what your thought process is for your visualizations."
   ]
  },
  {
   "cell_type": "code",
   "execution_count": 27,
   "metadata": {},
   "outputs": [
    {
     "data": {
      "image/png": "[encoded data removed]",
      "text/plain": [
       "<Figure size 640x480 with 1 Axes>"
      ]
     },
     "metadata": {},
     "output_type": "display_data"
    }
   ],
   "source": [
    "sns.histplot(df['ChemicalCount'], color='red')\n",
    "plt.show() #wanted a visualization of how many chemicals each product contains."
   ]
  },
  {
   "cell_type": "code",
   "execution_count": 30,
   "metadata": {},
   "outputs": [
    {
     "data": {
      "image/png": "[encoded data removed]",
      "text/plain": [
       "<Figure size 640x480 with 1 Axes>"
      ]
     },
     "metadata": {},
     "output_type": "display_data"
    }
   ],
   "source": [
    "sns.histplot(data=df, y=\"PrimaryCategory\", hue=\"ChemicalCount\", element=\"poly\")\n",
    "plt.show() # I used a histplot to get a visualization of the chemicalcount for each category."
   ]
  },
  {
   "cell_type": "markdown",
   "metadata": {
    "azdata_cell_guid": "d4931c0c-2c09-4ee1-95d4-73dd08c2f0a6"
   },
   "source": [
    "## Summarize Your Results\n",
    "\n",
    "With your EDA complete, answer the following questions.\n",
    "\n",
    "1. Was there anything surprising about your dataset? \n",
    "       I was surprised to see that makeup products seem to have the most ChemicalCounts.  \n",
    "2. Do you have any concerns about your dataset? \n",
    "       I am concerned about learning the toxicity of each chemical.  Also, how I am going to organize the data (how I can group by each product so all chemicals are listed under one row).\n",
    "3. Is there anything you want to make note of for the next phase of your analysis, which is cleaning data? \n",
    "        There are null values that need to be addressed in the BrandName and CasNumber columns. There are duplicates in the dataset that also need to be addressed. I need to look into each chemical to determine if it is toxic or safe, then sort the data accordingly. "
   ]
  }
 ],
 "metadata": {
  "kernelspec": {
   "display_name": "Python 3 (ipykernel)",
   "language": "python",
   "name": "python3"
  },
  "language_info": {
   "codemirror_mode": {
    "name": "ipython",
    "version": 3
   },
   "file_extension": ".py",
   "mimetype": "text/x-python",
   "name": "python",
   "nbconvert_exporter": "python",
   "pygments_lexer": "ipython3",
   "version": "3.10.9"
  }
 },
 "nbformat": 4,
 "nbformat_minor": 2
}
